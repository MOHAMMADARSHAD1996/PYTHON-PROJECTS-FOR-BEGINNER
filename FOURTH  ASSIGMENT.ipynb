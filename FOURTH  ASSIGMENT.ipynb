{
 "cells": [
  {
   "cell_type": "markdown",
   "id": "db246e39",
   "metadata": {},
   "source": [
    "#  <P style=\"color:brown\"> MD. ARSHAD </p>\n",
    "###  <P style=\"color:skyblue\"> ALISHARMEEN02@GMAIL.COM  </p>"
   ]
  },
  {
   "cell_type": "markdown",
   "id": "8c8700e2",
   "metadata": {},
   "source": [
    "Q1. Explain Class and Object with respect to Object-Oriented Programming. Give a suitable example."
   ]
  },
  {
   "cell_type": "markdown",
   "id": "6fd5e8b2",
   "metadata": {},
   "source": [
    "In object-oriented programming (OOP), a class and an object are fundamental concepts that facilitate the organization and structuring of code. They are used to model real-world entities, allowing you to create modular and reusable code.\n",
    "\n",
    "Class:\n",
    "A class is a blueprint or template for creating objects. It defines the structure and behavior of objects of that type. Think of a class as a blueprint for a specific category of objects, describing their attributes (data) and methods (functions or actions) that they can perform. In essence, a class defines the characteristics and behavior that its objects will possess.\n",
    "\n",
    "Object:\n",
    "An object is an instance of a class. It's a concrete representation created based on the class blueprint. Objects have state (attributes or properties) and behavior (methods) defined by the class. They can interact with each other and perform operations based on the methods defined in their class.\n",
    "\n",
    "Here's an example to help illustrate the concepts of class and object:\n",
    "\n",
    "Example: Class and Object for a Car\n",
    "\n",
    "python\n",
    "Copy code\n",
    "# Define a Car class\n",
    "\n",
    "In this example, Car is a class that serves as a blueprint. It has attributes like make, model, year, and a couple of methods like start, stop, and honk. The objects car1 and car2 are instances of the Car class. They have their own distinct attributes and can perform actions based on the methods defined in the class.\n",
    "\n",
    "The start, stop, and honk methods are actions that can be performed on individual car objects. By creating and using objects, you can model and simulate real-world entities in your code, making it more organized and maintainable.\n",
    "\n",
    "\n",
    "\n",
    "\n",
    "\n"
   ]
  },
  {
   "cell_type": "code",
   "execution_count": 2,
   "id": "d61a18f8",
   "metadata": {},
   "outputs": [
    {
     "name": "stdout",
     "output_type": "stream",
     "text": [
      "2023 Toyota Corolla started.\n",
      "2023 Ford Mustang started.\n",
      "Honk! Honk!\n",
      "2023 Ford Mustang stopped.\n"
     ]
    }
   ],
   "source": [
    "class Car:\n",
    "    def __init__(self, make, model, year):\n",
    "        self.make = make\n",
    "        self.model = model\n",
    "        self.year = year\n",
    "        self.is_running = False\n",
    "\n",
    "    def start(self):\n",
    "        self.is_running = True\n",
    "        print(f\"{self.year} {self.make} {self.model} started.\")\n",
    "\n",
    "    def stop(self):\n",
    "        self.is_running = False\n",
    "        print(f\"{self.year} {self.make} {self.model} stopped.\")\n",
    "\n",
    "    def honk(self):\n",
    "        print(\"Honk! Honk!\")\n",
    "\n",
    "# Create objects (instances) of the Car class\n",
    "car1 = Car(\"Toyota\", \"Corolla\", 2023)\n",
    "car2 = Car(\"Ford\", \"Mustang\", 2023)\n",
    "\n",
    "# Use the objects' methods\n",
    "car1.start()\n",
    "car2.start()\n",
    "car1.honk()\n",
    "car2.stop()"
   ]
  },
  {
   "cell_type": "markdown",
   "id": "8ca06ff0",
   "metadata": {},
   "source": [
    "Q2. Name the four pillars of OOPs.\n",
    "\n"
   ]
  },
  {
   "cell_type": "markdown",
   "id": "3a20ab3c",
   "metadata": {},
   "source": [
    "Certainly, the four pillars of Object-Oriented Programming (OOP) are:\n",
    "\n",
    "1. Encapsulation\n",
    "2. Abstraction\n",
    "3. Inheritance\n",
    "4. Polymorphism\n",
    "\n",
    "\n",
    "\n"
   ]
  },
  {
   "cell_type": "markdown",
   "id": "cc3f7a52",
   "metadata": {},
   "source": [
    "Q3. Explain why the __init__() function is used. Give a suitable example."
   ]
  },
  {
   "cell_type": "markdown",
   "id": "606abeb1",
   "metadata": {},
   "source": [
    "The __init__() function, also known as the constructor, is a special method in object-oriented programming languages like Python. It is used to initialize the attributes (data members) of an object when an instance of a class is created. The __init__() method is automatically called when you create an object of a class, and it allows you to set up the initial state of the object.\n",
    "\n",
    "Key points about the __init__() function:\n",
    "\n",
    "Initialization: The primary purpose of the __init__() method is to initialize the attributes of an object with appropriate values. It helps ensure that the object is in a valid and consistent state as soon as it is created.\n",
    "\n",
    "Automatic Invocation: When you create an object using the class constructor (e.g., my_object = MyClass()), the __init__() method is automatically called. You can provide arguments to the constructor, and these arguments are passed to the __init__() method to initialize the object's attributes.\n",
    "\n",
    "Self Parameter: The self parameter is a reference to the instance of the class. It is automatically passed as the first parameter to every method, including __init__(). This parameter allows you to access and modify the object's attributes within the method.\n",
    "\n",
    "Attribute Assignment: Inside the __init__() method, you can use the self parameter to assign values to the object's attributes. These attributes can be used to store data that represents the object's state.\n",
    "\n",
    "Here's an example to illustrate the use of the __init__() method:"
   ]
  },
  {
   "cell_type": "code",
   "execution_count": 3,
   "id": "b10af22d",
   "metadata": {},
   "outputs": [
    {
     "name": "stdout",
     "output_type": "stream",
     "text": [
      "Buddy is 3 years old.\n",
      "Buddy says Woof!\n",
      "Max is 5 years old.\n",
      "Max says Woof!\n"
     ]
    }
   ],
   "source": [
    "class Dog:\n",
    "    def __init__(self, name, age):\n",
    "        self.name = name\n",
    "        self.age = age\n",
    "\n",
    "    def bark(self):\n",
    "        print(f\"{self.name} says Woof!\")\n",
    "\n",
    "# Create instances of the Dog class\n",
    "dog1 = Dog(\"Buddy\", 3)\n",
    "dog2 = Dog(\"Max\", 5)\n",
    "\n",
    "# Access attributes and call methods\n",
    "print(f\"{dog1.name} is {dog1.age} years old.\")\n",
    "dog1.bark()\n",
    "\n",
    "print(f\"{dog2.name} is {dog2.age} years old.\")\n",
    "dog2.bark()"
   ]
  },
  {
   "cell_type": "markdown",
   "id": "e352c3bc",
   "metadata": {},
   "source": [
    "In this example, the Dog class has an __init__() method that initializes the name and age attributes of each Dog object. When you create instances of the Dog class, you pass values for name and age to the constructor, which then initializes the attributes accordingly. The bark() method is also defined to allow the dogs to bark.\n",
    "\n",
    "Using the __init__() method ensures that every Dog object is properly initialized with its name and age when it is created. This promotes consistent and predictable behavior in your code."
   ]
  },
  {
   "cell_type": "markdown",
   "id": "746ad4b0",
   "metadata": {},
   "source": [
    "Q4. Why self is used in OOPs?"
   ]
  },
  {
   "cell_type": "raw",
   "id": "92d09d6d",
   "metadata": {},
   "source": [
    "In object-oriented programming (OOP), the self keyword is used to refer to the current instance of a class. It is a common convention in languages like Python, and it plays a crucial role in allowing methods to access and manipulate the attributes and behaviors of the object they belong to. The self parameter is automatically passed to instance methods when they are called, and it serves several important purposes:\n",
    "\n",
    "Instance Reference: The self parameter provides a reference to the current instance of the class. This allows methods to interact with the specific attributes and methods of that instance. Without self, methods would not have a way to distinguish which instance they are operating on.\n",
    "\n",
    "Attribute Access: By using self, methods can access and modify the attributes (data members) of the object. For example, you can assign values to attributes, read their values, and perform calculations based on them.\n",
    "\n",
    "Method Invocation: self allows methods to call other methods within the same class. This is especially useful when methods need to collaborate or share functionality.\n",
    "\n",
    "Instance Creation: When an instance of a class is created, the self parameter ensures that the newly created instance is correctly passed to the __init__() method, allowing the object's attributes to be initialized.\n",
    "\n",
    "Here's a simple example to illustrate the use of self in Python:"
   ]
  },
  {
   "cell_type": "code",
   "execution_count": 5,
   "id": "4af54a92",
   "metadata": {},
   "outputs": [
    {
     "name": "stdout",
     "output_type": "stream",
     "text": [
      "Hi, my name is MOHAMMAD ARSHAD and I am 26 years old.\n"
     ]
    }
   ],
   "source": [
    "class Person:\n",
    "    def __init__(self, name, age):\n",
    "        self.name = name\n",
    "        self.age = age\n",
    "\n",
    "    def introduce(self):\n",
    "        print(f\"Hi, my name is {self.name} and I am {self.age} years old.\")\n",
    "\n",
    "# Creating an instance of the Person class\n",
    "person1 = Person(\"MOHAMMAD ARSHAD\", 26)\n",
    "\n",
    "# Calling the introduce method\n",
    "person1.introduce()"
   ]
  },
  {
   "cell_type": "markdown",
   "id": "8121cbd4",
   "metadata": {},
   "source": [
    "In the example above, self is used in the __init__() method to set the attributes name and age for each Person object. It is also used in the introduce() method to access the name and age attributes when printing the introduction.\n",
    "\n",
    "Using self ensures that methods can work with the specific instance they are called on, allowing for encapsulation and proper interaction between attributes and methods of an object.\n",
    "\n",
    "\n",
    "\n",
    "\n",
    "\n"
   ]
  },
  {
   "cell_type": "markdown",
   "id": "4e2fb2b7",
   "metadata": {},
   "source": [
    "Q5. What is inheritance? Give an example for each type of inheritance."
   ]
  },
  {
   "cell_type": "markdown",
   "id": "339ae58b",
   "metadata": {},
   "source": [
    "Inheritance is a key concept in object-oriented programming (OOP) where one class (the subclass or derived class) inherits attributes and behaviors from another class (the superclass or base class). Inheritance promotes code reuse, allows for the creation of more specialized classes, and establishes a hierarchy of classes.\n",
    "\n",
    "There are different types of inheritance, each serving specific purposes:\n",
    "\n",
    "Single Inheritance:\n",
    "In single inheritance, a subclass inherits from a single superclass. This forms a linear inheritance chain. A subclass can extend the attributes and methods of its superclass, adding its own unique characteristics.\n",
    "Example of single inheritance:"
   ]
  },
  {
   "cell_type": "code",
   "execution_count": 6,
   "id": "0c3a7667",
   "metadata": {},
   "outputs": [
    {
     "name": "stdout",
     "output_type": "stream",
     "text": [
      "Woof!\n",
      "Meow!\n"
     ]
    }
   ],
   "source": [
    "class Animal:\n",
    "    def speak(self):\n",
    "        pass\n",
    "\n",
    "class Dog(Animal):\n",
    "    def speak(self):\n",
    "        return \"Woof!\"\n",
    "\n",
    "class Cat(Animal):\n",
    "    def speak(self):\n",
    "        return \"Meow!\"\n",
    "\n",
    "dog = Dog()\n",
    "cat = Cat()\n",
    "\n",
    "print(dog.speak())  # Output: Woof!\n",
    "print(cat.speak())  # Output: Meow!"
   ]
  },
  {
   "cell_type": "markdown",
   "id": "82a8d1b8",
   "metadata": {},
   "source": [
    "Multiple Inheritance:\n",
    "In multiple inheritance, a subclass inherits from more than one superclass. This allows a subclass to inherit attributes and methods from multiple classes, leading to more complex class relationships.\n",
    "Example of multiple inheritance:"
   ]
  },
  {
   "cell_type": "code",
   "execution_count": 7,
   "id": "72491ebf",
   "metadata": {},
   "outputs": [
    {
     "name": "stdout",
     "output_type": "stream",
     "text": [
      "Flying\n",
      "Running\n"
     ]
    }
   ],
   "source": [
    "class Bird:\n",
    "    def fly(self):\n",
    "        return \"Flying\"\n",
    "\n",
    "class Mammal:\n",
    "    def run(self):\n",
    "        return \"Running\"\n",
    "\n",
    "class Bat(Bird, Mammal):\n",
    "    pass\n",
    "\n",
    "bat = Bat()\n",
    "\n",
    "print(bat.fly())  # Output: Flying\n",
    "print(bat.run())  # Output: Running"
   ]
  },
  {
   "cell_type": "markdown",
   "id": "9380a103",
   "metadata": {},
   "source": [
    "Multilevel Inheritance:\n",
    "In multilevel inheritance, a chain of inheritance is formed, where a subclass inherits from a superclass, and another subclass inherits from the first subclass. This creates a hierarchical structure.\n",
    "Example of multilevel inheritance:"
   ]
  },
  {
   "cell_type": "code",
   "execution_count": 8,
   "id": "d4ccfafc",
   "metadata": {},
   "outputs": [
    {
     "name": "stdout",
     "output_type": "stream",
     "text": [
      "Woof!\n"
     ]
    }
   ],
   "source": [
    "class Animal:\n",
    "    def speak(self):\n",
    "        pass\n",
    "\n",
    "class Mammal(Animal):\n",
    "    pass\n",
    "\n",
    "class Dog(Mammal):\n",
    "    def speak(self):\n",
    "        return \"Woof!\"\n",
    "\n",
    "dog = Dog()\n",
    "\n",
    "print(dog.speak())  # Output: Woof!\n",
    "\n"
   ]
  },
  {
   "cell_type": "markdown",
   "id": "16ea6667",
   "metadata": {},
   "source": [
    "Hierarchical Inheritance:\n",
    "In hierarchical inheritance, multiple subclasses inherit from a single superclass. Each subclass can have its own additional attributes and methods while sharing the common ones from the superclass.\n",
    "Example of hierarchical inheritance:"
   ]
  },
  {
   "cell_type": "code",
   "execution_count": 12,
   "id": "c7fb25e4",
   "metadata": {},
   "outputs": [
    {
     "name": "stdout",
     "output_type": "stream",
     "text": [
      "78.5\n",
      "16\n"
     ]
    }
   ],
   "source": [
    "class Shape:\n",
    "    def area(self):\n",
    "        pass\n",
    "\n",
    "class Circle(Shape):\n",
    "    def area(self, radius):\n",
    "        return 3.14 * radius * radius\n",
    "\n",
    "class Square(Shape):\n",
    "    def area(self, side):\n",
    "        return side * side\n",
    "\n",
    "circle = Circle()\n",
    "square = Square()\n",
    "\n",
    "print(circle.area(5))  # Output: 78.5\n",
    "print(square.area(4))  # Output: 16\n",
    "#These examples demonstrate different types of inheritance, \n",
    "#each showcasing how subclasses inherit and extend attributes and\n",
    "#methods from their respective superclasses. \n",
    "#Inheritance is a powerful mechanism that enables code reuse and \n",
    "#supports the creation of organized and modular class hierarchies.\n",
    "\n",
    "\n",
    "\n",
    "\n",
    "\n"
   ]
  },
  {
   "cell_type": "markdown",
   "id": "04674d73",
   "metadata": {},
   "source": [
    "#  <P style=\"color:GREEN\"> Thank You ,That's All </p>"
   ]
  }
 ],
 "metadata": {
  "kernelspec": {
   "display_name": "Python 3 (ipykernel)",
   "language": "python",
   "name": "python3"
  },
  "language_info": {
   "codemirror_mode": {
    "name": "ipython",
    "version": 3
   },
   "file_extension": ".py",
   "mimetype": "text/x-python",
   "name": "python",
   "nbconvert_exporter": "python",
   "pygments_lexer": "ipython3",
   "version": "3.9.7"
  }
 },
 "nbformat": 4,
 "nbformat_minor": 5
}
