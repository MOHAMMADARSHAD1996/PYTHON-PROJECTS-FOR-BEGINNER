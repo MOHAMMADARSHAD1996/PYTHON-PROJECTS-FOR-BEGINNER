{
 "cells": [
  {
   "cell_type": "markdown",
   "id": "db246e39",
   "metadata": {},
   "source": [
    "#  <P style=\"color:brown\"> MD. ARSHAD </p>\n",
    "###  <P style=\"color:skyblue\"> ALISHARMEEN02@GMAIL.COM  </p>"
   ]
  },
  {
   "cell_type": "markdown",
   "id": "c5773402",
   "metadata": {},
   "source": [
    "Q1. Which keyword is used to create a function? Create a function to return a list of odd numbers in the range of 1 to 25."
   ]
  },
  {
   "cell_type": "code",
   "execution_count": 1,
   "id": "1beb9c8d",
   "metadata": {},
   "outputs": [],
   "source": [
    "# def keyward used to create a function\n",
    "def List():\n",
    "    a = []\n",
    "    for i in range(1,25):\n",
    "        if  i%2!=0:\n",
    "            a.append(i)\n",
    "    print(a)"
   ]
  },
  {
   "cell_type": "code",
   "execution_count": 2,
   "id": "5d8aae1a",
   "metadata": {},
   "outputs": [
    {
     "data": {
      "text/plain": [
       "<function __main__.List()>"
      ]
     },
     "execution_count": 2,
     "metadata": {},
     "output_type": "execute_result"
    }
   ],
   "source": [
    "List"
   ]
  },
  {
   "cell_type": "code",
   "execution_count": 3,
   "id": "ce50fb0a",
   "metadata": {},
   "outputs": [
    {
     "name": "stdout",
     "output_type": "stream",
     "text": [
      "[1, 3, 5, 7, 9, 11, 13, 15, 17, 19, 21, 23]\n"
     ]
    }
   ],
   "source": [
    "List()"
   ]
  },
  {
   "cell_type": "markdown",
   "id": "08c75705",
   "metadata": {},
   "source": [
    "Q2. Why *args and **kwargs is used in some functions? Create a function each for *args and **kwargs \n",
    "to demonstrate their use."
   ]
  },
  {
   "cell_type": "code",
   "execution_count": 4,
   "id": "e51151ee",
   "metadata": {},
   "outputs": [
    {
     "name": "stdout",
     "output_type": "stream",
     "text": [
      "['mohd', 'arshad', 'ali'],"
     ]
    }
   ],
   "source": [
    "# *args -> Is use for take multiple arguments in function.\n",
    "def name(*args):\n",
    "    for i in args:\n",
    "        print(i, end=\",\")\n",
    "        \n",
    "l = [\"mohd\",\"arshad\",\"ali\"]        \n",
    "name(l)"
   ]
  },
  {
   "cell_type": "code",
   "execution_count": 5,
   "id": "20ff97c2",
   "metadata": {},
   "outputs": [
    {
     "name": "stdout",
     "output_type": "stream",
     "text": [
      "['a', 'b', 'c', 'd', 'e', 'f', 'g'],"
     ]
    }
   ],
   "source": [
    "s = [\"a\",\"b\",\"c\",\"d\",\"e\",\"f\",\"g\"]\n",
    "name(s)"
   ]
  },
  {
   "cell_type": "code",
   "execution_count": 6,
   "id": "2fc12c2d",
   "metadata": {},
   "outputs": [
    {
     "name": "stdout",
     "output_type": "stream",
     "text": [
      "aaaaaaaa\n",
      "['mohd', 'arshad', 'ali'],"
     ]
    }
   ],
   "source": [
    "def name(n,*args):\n",
    "    print(n)\n",
    "    for i in args:\n",
    "        print(i, end=\",\")\n",
    "        \n",
    "l = [\"mohd\",\"arshad\",\"ali\"]        \n",
    "name(\"aaaaaaaa\",l)"
   ]
  },
  {
   "cell_type": "code",
   "execution_count": 7,
   "id": "ba83d14a",
   "metadata": {},
   "outputs": [
    {
     "name": "stdout",
     "output_type": "stream",
     "text": [
      "nnn\n",
      "['d', 'ad', 'i'],"
     ]
    }
   ],
   "source": [
    "def name(n,*a):\n",
    "    print(n)\n",
    "    for i in a:\n",
    "        print(i, end=\",\")\n",
    "        \n",
    "l = [\"d\",\"ad\",\"i\"]        \n",
    "name(\"nnn\",l)"
   ]
  },
  {
   "cell_type": "code",
   "execution_count": 8,
   "id": "58259fe9",
   "metadata": {},
   "outputs": [],
   "source": [
    "# *Kwargs -> Is use for take multiple arguments in function like Dict. key-value pair.\n",
    "def Dict(**Kwargs):\n",
    "    for k,v in Kwargs:\n",
    "        print(k,v)"
   ]
  },
  {
   "cell_type": "code",
   "execution_count": 9,
   "id": "d9a7def1",
   "metadata": {},
   "outputs": [],
   "source": [
    "l = {\"a\":12,\"b\":13,\"c\":14,\"d\":15,\"e\":16,\"f\":17}"
   ]
  },
  {
   "cell_type": "code",
   "execution_count": 10,
   "id": "0938d02a",
   "metadata": {},
   "outputs": [
    {
     "data": {
      "text/plain": [
       "{'a': 12, 'b': 13, 'c': 14, 'd': 15, 'e': 16, 'f': 17}"
      ]
     },
     "execution_count": 10,
     "metadata": {},
     "output_type": "execute_result"
    }
   ],
   "source": [
    "dict(l)"
   ]
  },
  {
   "cell_type": "markdown",
   "id": "b84a0f52",
   "metadata": {},
   "source": [
    "Q3.  What is an iterator in python? Name the method used to initialise the iterator object and the method \n",
    "used for iteration. Use these methods to print the first five elements of the given list [2, 4, 6, 8, 10, 12, 14, \n",
    "16, 18, 20]."
   ]
  },
  {
   "cell_type": "markdown",
   "id": "5bf0780d",
   "metadata": {},
   "source": [
    "* An iterator is an object which contains a countable number of values and it is used over iterable\n",
    "  objects like :- list,tuples, sets, e.t.c.\n",
    "* Iterators are used mostly to itrate or convert other objects to an iterator using iter() function\n",
    "* Iterators uses iter() and next() functions.\n",
    "* Lists, tuples,dictionaries and sets are all iterable objects . They are iterable containers which \n",
    "  you can get an iterator from\n",
    "* Technicllay the iterator protocol, which consist of the methods __iter__ () and  __next__().\n",
    "* Every iterator is not a generator."
   ]
  },
  {
   "cell_type": "code",
   "execution_count": 11,
   "id": "c51b7d42",
   "metadata": {},
   "outputs": [
    {
     "name": "stdout",
     "output_type": "stream",
     "text": [
      "2, 4, 6, 8, 10, "
     ]
    }
   ],
   "source": [
    "# WITHOUT ITER FUNCTION\n",
    "l = [2,4,6,8,10,12,14,16,18,20]\n",
    "for i in range(5):\n",
    "    print(l[i], end=\", \")"
   ]
  },
  {
   "cell_type": "code",
   "execution_count": 12,
   "id": "32dea39c",
   "metadata": {},
   "outputs": [
    {
     "name": "stdout",
     "output_type": "stream",
     "text": [
      "2\n",
      "4\n",
      "6\n",
      "8\n",
      "10\n"
     ]
    }
   ],
   "source": [
    "# WITH ITER FUNCTION\n",
    "l = [2,4,6,8,10,12,14,16,18,20]\n",
    "l1 = iter(l)\n",
    "print(next(l1))\n",
    "print(next(l1))\n",
    "print(next(l1))\n",
    "print(next(l1))\n",
    "print(next(l1))"
   ]
  },
  {
   "cell_type": "markdown",
   "id": "4dcf2e98",
   "metadata": {},
   "source": [
    "Q4.  What is a generator function in python? Why yield keyword is used? Give an example of a generator \n",
    "function"
   ]
  },
  {
   "cell_type": "markdown",
   "id": "42b5cfb6",
   "metadata": {},
   "source": [
    "* Generators are functions that return a sequence of values. Wee use yield statement to return the       value from function.\n",
    "* Yield statement returns the elements from a generator function into a generator object."
   ]
  },
  {
   "cell_type": "code",
   "execution_count": 13,
   "id": "b96370ae",
   "metadata": {},
   "outputs": [
    {
     "name": "stdout",
     "output_type": "stream",
     "text": [
      "<generator object disp at 0x000002095C156D60>\n",
      "<class 'generator'>\n",
      "100\n",
      "200\n"
     ]
    }
   ],
   "source": [
    "def disp(a,b):\n",
    "    yield a\n",
    "    yield b\n",
    "re = disp(100,200)    \n",
    "print(re)\n",
    "print(type(re))\n",
    "print(next(re))\n",
    "print(next(re))\n"
   ]
  },
  {
   "cell_type": "code",
   "execution_count": 14,
   "id": "89f1d8f5",
   "metadata": {},
   "outputs": [
    {
     "name": "stdout",
     "output_type": "stream",
     "text": [
      "<generator object show at 0x000002095C156DD0>\n",
      "<class 'generator'>\n",
      "1\n",
      "2\n",
      "3\n",
      "4\n",
      "5\n"
     ]
    }
   ],
   "source": [
    "def show(a,b):\n",
    "    while a<=b:\n",
    "        yield a\n",
    "        a = a+1\n",
    "        \n",
    "re = show(1,5)    \n",
    "print(re)\n",
    "print(type(re))   \n",
    "print(next(re))\n",
    "print(next(re))\n",
    "print(next(re))\n",
    "print(next(re))\n",
    "print(next(re))"
   ]
  },
  {
   "cell_type": "markdown",
   "id": "2a5381c3",
   "metadata": {},
   "source": [
    "Q5. Create a generator function for prime numbers less than 1000. Use the next() method to print the \n",
    "first 20 prime numbers"
   ]
  },
  {
   "cell_type": "code",
   "execution_count": 15,
   "id": "cb050505",
   "metadata": {},
   "outputs": [],
   "source": [
    "a = []\n",
    "count = 0\n",
    "for i in range(1,1000):\n",
    "    count = 0\n",
    "    for j in range(1,i+1):\n",
    "        if i%j==0:\n",
    "            count= count+1\n",
    "    if count==2:\n",
    "        a.append(i)\n",
    "        "
   ]
  },
  {
   "cell_type": "code",
   "execution_count": 16,
   "id": "eb3e106c",
   "metadata": {},
   "outputs": [
    {
     "name": "stdout",
     "output_type": "stream",
     "text": [
      "[2, 3, 5, 7, 11, 13, 17, 19, 23, 29, 31, 37, 41, 43, 47, 53, 59, 61, 67, 71, 73, 79, 83, 89, 97, 101, 103, 107, 109, 113, 127, 131, 137, 139, 149, 151, 157, 163, 167, 173, 179, 181, 191, 193, 197, 199, 211, 223, 227, 229, 233, 239, 241, 251, 257, 263, 269, 271, 277, 281, 283, 293, 307, 311, 313, 317, 331, 337, 347, 349, 353, 359, 367, 373, 379, 383, 389, 397, 401, 409, 419, 421, 431, 433, 439, 443, 449, 457, 461, 463, 467, 479, 487, 491, 499, 503, 509, 521, 523, 541, 547, 557, 563, 569, 571, 577, 587, 593, 599, 601, 607, 613, 617, 619, 631, 641, 643, 647, 653, 659, 661, 673, 677, 683, 691, 701, 709, 719, 727, 733, 739, 743, 751, 757, 761, 769, 773, 787, 797, 809, 811, 821, 823, 827, 829, 839, 853, 857, 859, 863, 877, 881, 883, 887, 907, 911, 919, 929, 937, 941, 947, 953, 967, 971, 977, 983, 991, 997]\n"
     ]
    }
   ],
   "source": [
    "print(a)"
   ]
  },
  {
   "cell_type": "markdown",
   "id": "fbb6d0b5",
   "metadata": {},
   "source": [
    "Q6. Write a python program to print the first 10 Fibonacci numbers using a while loop."
   ]
  },
  {
   "cell_type": "code",
   "execution_count": 17,
   "id": "3477ea1c",
   "metadata": {},
   "outputs": [
    {
     "name": "stdout",
     "output_type": "stream",
     "text": [
      "0|1|1|2|3|5|8|13|21|34|55|"
     ]
    }
   ],
   "source": [
    "a,b = 0,1\n",
    "counter = 0\n",
    "while counter<=10:\n",
    "    print(a,end=\"|\")\n",
    "    c = a+b\n",
    "    a = b\n",
    "    b = c\n",
    "    counter = counter+1"
   ]
  },
  {
   "cell_type": "markdown",
   "id": "d0967b52",
   "metadata": {},
   "source": [
    "Q7. Write a List Comprehension to iterate through the given string: ‘pwskills’.\n",
    "\n",
    "Expected output: ['p', 'w', 's', 'k', 'i', 'l', 'l', 's'] "
   ]
  },
  {
   "cell_type": "code",
   "execution_count": 18,
   "id": "b4d3fc5d",
   "metadata": {},
   "outputs": [
    {
     "name": "stdout",
     "output_type": "stream",
     "text": [
      "['p', 'w', 's', 'k', 'i', 'l', 'l', 's']\n"
     ]
    }
   ],
   "source": [
    "p = \"pwskills\"\n",
    "a = [i for i in p]\n",
    "print(a)"
   ]
  },
  {
   "cell_type": "markdown",
   "id": "a0cff187",
   "metadata": {},
   "source": [
    "Q8. Write a python program to check whether a given number is Palindrome or not using a while loop."
   ]
  },
  {
   "cell_type": "code",
   "execution_count": 19,
   "id": "c6cbd3b4",
   "metadata": {},
   "outputs": [
    {
     "name": "stdout",
     "output_type": "stream",
     "text": [
      "enter the number here :- 10\n",
      "It's not a palindrome number\n"
     ]
    }
   ],
   "source": [
    "i = int(input(\"enter the number here :- \"))\n",
    "rev = 0\n",
    "x=i\n",
    "while (i>0):\n",
    "    rev = (rev*10) + i%10\n",
    "    i = i//10\n",
    "if (x==rev):\n",
    "    print(\"It's a Palindrome number \")\n",
    "else:\n",
    "    print(\"It's not a palindrome number\")"
   ]
  },
  {
   "cell_type": "code",
   "execution_count": 20,
   "id": "e6dfecef",
   "metadata": {},
   "outputs": [
    {
     "name": "stdout",
     "output_type": "stream",
     "text": [
      "enter the number here :- 121\n",
      "It's a Palindrome number \n"
     ]
    }
   ],
   "source": [
    "i = int(input(\"enter the number here :- \"))\n",
    "rev = 0\n",
    "x=i\n",
    "while (i>0):\n",
    "    rev = (rev*10) + i%10\n",
    "    i = i//10\n",
    "if (x==rev):\n",
    "    print(\"It's a Palindrome number \")\n",
    "else:\n",
    "    print(\"It's not a palindrome number\")"
   ]
  },
  {
   "cell_type": "code",
   "execution_count": 21,
   "id": "ed18da80",
   "metadata": {},
   "outputs": [
    {
     "name": "stdout",
     "output_type": "stream",
     "text": [
      "enter the number here :- 12121\n",
      "It's a Palindrome number \n"
     ]
    }
   ],
   "source": [
    "i = int(input(\"enter the number here :- \"))\n",
    "rev = 0\n",
    "x=i\n",
    "while (i>0):\n",
    "    rev = (rev*10) + i%10\n",
    "    i = i//10\n",
    "if (x==rev):\n",
    "    print(\"It's a Palindrome number \")\n",
    "else:\n",
    "    print(\"It's not a palindrome number\")"
   ]
  },
  {
   "cell_type": "code",
   "execution_count": 22,
   "id": "fbf8ce19",
   "metadata": {},
   "outputs": [
    {
     "name": "stdout",
     "output_type": "stream",
     "text": [
      "enter the number here :- 1212121\n",
      "It's a Palindrome number \n"
     ]
    }
   ],
   "source": [
    "i = int(input(\"enter the number here :- \"))\n",
    "rev = 0\n",
    "x=i\n",
    "while (i>0):\n",
    "    rev = (rev*10) + i%10\n",
    "    i = i//10\n",
    "if (x==rev):\n",
    "    print(\"It's a Palindrome number \")\n",
    "else:\n",
    "    print(\"It's not a palindrome number\")"
   ]
  },
  {
   "cell_type": "code",
   "execution_count": 23,
   "id": "ac25b563",
   "metadata": {},
   "outputs": [
    {
     "name": "stdout",
     "output_type": "stream",
     "text": [
      "enter the number here :- 12121212121\n",
      "It's a Palindrome number \n"
     ]
    }
   ],
   "source": [
    "i = int(input(\"enter the number here :- \"))\n",
    "rev = 0\n",
    "x=i\n",
    "while (i>0):\n",
    "    rev = (rev*10) + i%10\n",
    "    i = i//10\n",
    "if (x==rev):\n",
    "    print(\"It's a Palindrome number \")\n",
    "else:\n",
    "    print(\"It's not a palindrome number\")"
   ]
  },
  {
   "cell_type": "markdown",
   "id": "15f829b7",
   "metadata": {},
   "source": [
    "Q9. Write a code to print odd numbers from 1 to 100 using list comprehension.\n",
    "\n",
    "Note: Use a list comprehension to create a list from 1 to 100 and use another List comprehension to filter \n",
    "out odd numbers"
   ]
  },
  {
   "cell_type": "code",
   "execution_count": 24,
   "id": "d3d4d720",
   "metadata": {},
   "outputs": [
    {
     "name": "stdout",
     "output_type": "stream",
     "text": [
      "[1, 3, 5, 7, 9, 11, 13, 15, 17, 19, 21, 23, 25, 27, 29, 31, 33, 35, 37, 39, 41, 43, 45, 47, 49, 51, 53, 55, 57, 59, 61, 63, 65, 67, 69, 71, 73, 75, 77, 79, 81, 83, 85, 87, 89, 91, 93, 95, 97, 99]\n"
     ]
    }
   ],
   "source": [
    "# odd numbers\n",
    "a = [ i for i in range(100) if i%2!=0]\n",
    "print(a)"
   ]
  },
  {
   "cell_type": "code",
   "execution_count": 25,
   "id": "3af3f05e",
   "metadata": {},
   "outputs": [
    {
     "name": "stdout",
     "output_type": "stream",
     "text": [
      "[0, 2, 4, 6, 8, 10, 12, 14, 16, 18, 20, 22, 24, 26, 28, 30, 32, 34, 36, 38, 40, 42, 44, 46, 48, 50, 52, 54, 56, 58, 60, 62, 64, 66, 68, 70, 72, 74, 76, 78, 80, 82, 84, 86, 88, 90, 92, 94, 96, 98]\n"
     ]
    }
   ],
   "source": [
    "# even numbers\n",
    "a = [ i for i in range(100) if i%2==0]\n",
    "print(a)"
   ]
  },
  {
   "cell_type": "markdown",
   "id": "62fc38ef",
   "metadata": {},
   "source": [
    "#  <P style=\"color:brown\"> Thank You ,That's All </p>\n"
   ]
  }
 ],
 "metadata": {
  "kernelspec": {
   "display_name": "Python 3 (ipykernel)",
   "language": "python",
   "name": "python3"
  },
  "language_info": {
   "codemirror_mode": {
    "name": "ipython",
    "version": 3
   },
   "file_extension": ".py",
   "mimetype": "text/x-python",
   "name": "python",
   "nbconvert_exporter": "python",
   "pygments_lexer": "ipython3",
   "version": "3.9.7"
  }
 },
 "nbformat": 4,
 "nbformat_minor": 5
}
