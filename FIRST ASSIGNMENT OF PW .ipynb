{
 "cells": [
  {
   "cell_type": "markdown",
   "id": "bc2962f1",
   "metadata": {},
   "source": [
    "#  <P style=\"color:brown\"> MD. ARSHAD </p>\n",
    "###  <P style=\"color:skyblue\"> ALISHARMEEN02@GMAIL.COM  </p>"
   ]
  },
  {
   "cell_type": "markdown",
   "id": "fa93ee07",
   "metadata": {},
   "source": [
    "#  <P style=\"color:purple\"> FIRST ASSIGNMENT OF PW  </p>"
   ]
  },
  {
   "cell_type": "raw",
   "id": "5228bfc1",
   "metadata": {},
   "source": [
    "Q1. Explain with an example each when to use a for loop and a while loop."
   ]
  },
  {
   "cell_type": "code",
   "execution_count": 1,
   "id": "c0307663",
   "metadata": {},
   "outputs": [
    {
     "name": "stdout",
     "output_type": "stream",
     "text": [
      "0|1|2|3|4|5|6|7|8|9|"
     ]
    }
   ],
   "source": [
    "for i in range(0,10):\n",
    "    print(i, end=\"|\")"
   ]
  },
  {
   "cell_type": "code",
   "execution_count": 2,
   "id": "f3263931",
   "metadata": {},
   "outputs": [
    {
     "name": "stdout",
     "output_type": "stream",
     "text": [
      "0|1|2|3|4|5|6|7|8|9|"
     ]
    }
   ],
   "source": [
    "i = 0\n",
    "while(i<10):\n",
    "    print(i, end=\"|\")\n",
    "    i = i+1"
   ]
  },
  {
   "cell_type": "raw",
   "id": "04fa8573",
   "metadata": {},
   "source": [
    "Q2. Write a python program to print the sum and product of the first 10 natural numbers using for\n",
    "and while loop."
   ]
  },
  {
   "cell_type": "code",
   "execution_count": 3,
   "id": "876256e1",
   "metadata": {},
   "outputs": [
    {
     "name": "stdout",
     "output_type": "stream",
     "text": [
      "55\n"
     ]
    }
   ],
   "source": [
    "SUM = 0\n",
    "for i in range(1,11):\n",
    "    SUM = SUM+i\n",
    "\n",
    "    \n",
    "print(SUM)"
   ]
  },
  {
   "cell_type": "code",
   "execution_count": 4,
   "id": "5ea3f2ce",
   "metadata": {},
   "outputs": [
    {
     "name": "stdout",
     "output_type": "stream",
     "text": [
      "55\n"
     ]
    }
   ],
   "source": [
    "SUM = 0\n",
    "i = 1\n",
    "while(i<=10):\n",
    "    SUM =SUM +i\n",
    "    i = i+1\n",
    "    \n",
    "print(SUM)    "
   ]
  },
  {
   "cell_type": "raw",
   "id": "bbab5d95",
   "metadata": {},
   "source": [
    "Q3. Create a python program to compute the electricity bill for a household.\n",
    "\n",
    "The per-unit charges in rupees are as follows: For the first 100 units, the user will be charged Rs. 4.5 per\n",
    "unit, for the next 100 units, the user will be charged Rs. 6 per unit, and for the next 100 units, the user will\n",
    "be charged Rs. 10 per unit, After 300 units and above the user will be charged Rs. 20 per unit.\n",
    "\n",
    "You are required to take the units of electricity consumed in a month from the user as input.\n",
    "Your program must pass this test case: when the unit of electricity consumed by the user in a month is\n",
    "310, the total electricity bill should be 2250."
   ]
  },
  {
   "cell_type": "code",
   "execution_count": 20,
   "id": "0824c205",
   "metadata": {},
   "outputs": [
    {
     "name": "stdout",
     "output_type": "stream",
     "text": [
      "enter the no. of units you have used : - 150\n",
      "the unit of electricity counsumed by the user is  150 and Total bill of electricity is :-  750\n"
     ]
    }
   ],
   "source": [
    "a  = int(input(\"enter the no. of units you have used : - \"))\n",
    "if a<=100:\n",
    "    print(\"the unit of electricity counsumed by the user is \",a, \"and Total bill of electricity is :- \", a*4.5)\n",
    "elif a>100 and a<=200:\n",
    "    c = int(a-100)*6\n",
    "    print(\"the unit of electricity counsumed by the user is \",a, \"and Total bill of electricity is :- \", c+450 )\n",
    "elif a>200 and a<=300:\n",
    "    d = int(a-200)*10\n",
    "    print(\"the unit of electricity counsumed by the user is \",a, \"and Total bill of electricity is :- \",d+1050)\n",
    "elif a>300 :\n",
    "    b = int(a-300)*20\n",
    "    print(\"the unit of electricity counsumed by the user is \",a, \"and Total bill of electricity is :- \", b+2050 )\n",
    "\n"
   ]
  },
  {
   "cell_type": "code",
   "execution_count": 21,
   "id": "75c252c5",
   "metadata": {},
   "outputs": [
    {
     "name": "stdout",
     "output_type": "stream",
     "text": [
      "enter the no. of units you have used : - 200\n",
      "the unit of electricity counsumed by the user is  200 and Total bill of electricity is :-  1050\n"
     ]
    }
   ],
   "source": [
    "a  = int(input(\"enter the no. of units you have used : - \"))\n",
    "if a<=100:\n",
    "    print(\"the unit of electricity counsumed by the user is \",a, \"and Total bill of electricity is :- \", a*4.5)\n",
    "elif a>100 and a<=200:\n",
    "    c = int(a-100)*6\n",
    "    print(\"the unit of electricity counsumed by the user is \",a, \"and Total bill of electricity is :- \", c+450 )\n",
    "elif a>200 and a<=300:\n",
    "    d = int(a-200)*10\n",
    "    print(\"the unit of electricity counsumed by the user is \",a, \"and Total bill of electricity is :- \",d+1050)\n",
    "elif a>300 :\n",
    "    b = int(a-300)*20\n",
    "    print(\"the unit of electricity counsumed by the user is \",a, \"and Total bill of electricity is :- \", b+2050 )\n",
    "\n"
   ]
  },
  {
   "cell_type": "code",
   "execution_count": 22,
   "id": "3e859060",
   "metadata": {},
   "outputs": [
    {
     "name": "stdout",
     "output_type": "stream",
     "text": [
      "enter the no. of units you have used : - 250\n",
      "the unit of electricity counsumed by the user is  250 and Total bill of electricity is :-  1550\n"
     ]
    }
   ],
   "source": [
    "a  = int(input(\"enter the no. of units you have used : - \"))\n",
    "if a<=100:\n",
    "    print(\"the unit of electricity counsumed by the user is \",a, \"and Total bill of electricity is :- \", a*4.5)\n",
    "elif a>100 and a<=200:\n",
    "    c = int(a-100)*6\n",
    "    print(\"the unit of electricity counsumed by the user is \",a, \"and Total bill of electricity is :- \", c+450 )\n",
    "elif a>200 and a<=300:\n",
    "    d = int(a-200)*10\n",
    "    print(\"the unit of electricity counsumed by the user is \",a, \"and Total bill of electricity is :- \",d+1050)\n",
    "elif a>300 :\n",
    "    b = int(a-300)*20\n",
    "    print(\"the unit of electricity counsumed by the user is \",a, \"and Total bill of electricity is :- \", b+2050 )\n",
    "\n"
   ]
  },
  {
   "cell_type": "code",
   "execution_count": 23,
   "id": "3f9b4674",
   "metadata": {},
   "outputs": [
    {
     "name": "stdout",
     "output_type": "stream",
     "text": [
      "enter the no. of units you have used : - 300\n",
      "the unit of electricity counsumed by the user is  300 and Total bill of electricity is :-  2050\n"
     ]
    }
   ],
   "source": [
    "a  = int(input(\"enter the no. of units you have used : - \"))\n",
    "if a<=100:\n",
    "    print(\"the unit of electricity counsumed by the user is \",a, \"and Total bill of electricity is :- \", a*4.5)\n",
    "elif a>100 and a<=200:\n",
    "    c = int(a-100)*6\n",
    "    print(\"the unit of electricity counsumed by the user is \",a, \"and Total bill of electricity is :- \", c+450 )\n",
    "elif a>200 and a<=300:\n",
    "    d = int(a-200)*10\n",
    "    print(\"the unit of electricity counsumed by the user is \",a, \"and Total bill of electricity is :- \",d+1050)\n",
    "elif a>300 :\n",
    "    b = int(a-300)*20\n",
    "    print(\"the unit of electricity counsumed by the user is \",a, \"and Total bill of electricity is :- \", b+2050 )\n",
    "\n"
   ]
  },
  {
   "cell_type": "code",
   "execution_count": 24,
   "id": "4e11849f",
   "metadata": {},
   "outputs": [
    {
     "name": "stdout",
     "output_type": "stream",
     "text": [
      "enter the no. of units you have used : - 301\n",
      "the unit of electricity counsumed by the user is  301 and Total bill of electricity is :-  2070\n"
     ]
    }
   ],
   "source": [
    "a  = int(input(\"enter the no. of units you have used : - \"))\n",
    "if a<=100:\n",
    "    print(\"the unit of electricity counsumed by the user is \",a, \"and Total bill of electricity is :- \", a*4.5)\n",
    "elif a>100 and a<=200:\n",
    "    c = int(a-100)*6\n",
    "    print(\"the unit of electricity counsumed by the user is \",a, \"and Total bill of electricity is :- \", c+450 )\n",
    "elif a>200 and a<=300:\n",
    "    d = int(a-200)*10\n",
    "    print(\"the unit of electricity counsumed by the user is \",a, \"and Total bill of electricity is :- \",d+1050)\n",
    "elif a>300 :\n",
    "    b = int(a-300)*20\n",
    "    print(\"the unit of electricity counsumed by the user is \",a, \"and Total bill of electricity is :- \", b+2050 )\n",
    "\n"
   ]
  },
  {
   "cell_type": "code",
   "execution_count": 25,
   "id": "a1ebba5e",
   "metadata": {},
   "outputs": [
    {
     "name": "stdout",
     "output_type": "stream",
     "text": [
      "enter the no. of units you have used : - 310\n",
      "the unit of electricity counsumed by the user is  310 and Total bill of electricity is :-  2250\n"
     ]
    }
   ],
   "source": [
    "a  = int(input(\"enter the no. of units you have used : - \"))\n",
    "if a<=100:\n",
    "    print(\"the unit of electricity counsumed by the user is \",a, \"and Total bill of electricity is :- \", a*4.5)\n",
    "elif a>100 and a<=200:\n",
    "    c = int(a-100)*6\n",
    "    print(\"the unit of electricity counsumed by the user is \",a, \"and Total bill of electricity is :- \", c+450 )\n",
    "elif a>200 and a<=300:\n",
    "    d = int(a-200)*10\n",
    "    print(\"the unit of electricity counsumed by the user is \",a, \"and Total bill of electricity is :- \",d+1050)\n",
    "elif a>300 :\n",
    "    b = int(a-300)*20\n",
    "    print(\"the unit of electricity counsumed by the user is \",a, \"and Total bill of electricity is :- \", b+2050 )\n",
    "\n"
   ]
  },
  {
   "cell_type": "code",
   "execution_count": 26,
   "id": "506b83eb",
   "metadata": {},
   "outputs": [
    {
     "name": "stdout",
     "output_type": "stream",
     "text": [
      "enter the no. of units you have used : - 400\n",
      "the unit of electricity counsumed by the user is  400 and Total bill of electricity is :-  4050\n"
     ]
    }
   ],
   "source": [
    "a  = int(input(\"enter the no. of units you have used : - \"))\n",
    "if a<=100:\n",
    "    print(\"the unit of electricity counsumed by the user is \",a, \"and Total bill of electricity is :- \", a*4.5)\n",
    "elif a>100 and a<=200:\n",
    "    c = int(a-100)*6\n",
    "    print(\"the unit of electricity counsumed by the user is \",a, \"and Total bill of electricity is :- \", c+450 )\n",
    "elif a>200 and a<=300:\n",
    "    d = int(a-200)*10\n",
    "    print(\"the unit of electricity counsumed by the user is \",a, \"and Total bill of electricity is :- \",d+1050)\n",
    "elif a>300 :\n",
    "    b = int(a-300)*20\n",
    "    print(\"the unit of electricity counsumed by the user is \",a, \"and Total bill of electricity is :- \", b+2050 )\n",
    "\n"
   ]
  },
  {
   "cell_type": "code",
   "execution_count": 27,
   "id": "77a1e880",
   "metadata": {},
   "outputs": [
    {
     "name": "stdout",
     "output_type": "stream",
     "text": [
      "enter the no. of units you have used : - 401\n",
      "the unit of electricity counsumed by the user is  401 and Total bill of electricity is :-  4070\n"
     ]
    }
   ],
   "source": [
    "a  = int(input(\"enter the no. of units you have used : - \"))\n",
    "if a<=100:\n",
    "    print(\"the unit of electricity counsumed by the user is \",a, \"and Total bill of electricity is :- \", a*4.5)\n",
    "elif a>100 and a<=200:\n",
    "    c = int(a-100)*6\n",
    "    print(\"the unit of electricity counsumed by the user is \",a, \"and Total bill of electricity is :- \", c+450 )\n",
    "elif a>200 and a<=300:\n",
    "    d = int(a-200)*10\n",
    "    print(\"the unit of electricity counsumed by the user is \",a, \"and Total bill of electricity is :- \",d+1050)\n",
    "elif a>300 :\n",
    "    b = int(a-300)*20\n",
    "    print(\"the unit of electricity counsumed by the user is \",a, \"and Total bill of electricity is :- \", b+2050 )\n",
    "\n"
   ]
  },
  {
   "cell_type": "code",
   "execution_count": 28,
   "id": "cd8bfbb1",
   "metadata": {},
   "outputs": [
    {
     "name": "stdout",
     "output_type": "stream",
     "text": [
      "enter the no. of units you have used : - 410\n",
      "the unit of electricity counsumed by the user is  410 and Total bill of electricity is :-  4250\n"
     ]
    }
   ],
   "source": [
    "a  = int(input(\"enter the no. of units you have used : - \"))\n",
    "if a<=100:\n",
    "    print(\"the unit of electricity counsumed by the user is \",a, \"and Total bill of electricity is :- \", a*4.5)\n",
    "elif a>100 and a<=200:\n",
    "    c = int(a-100)*6\n",
    "    print(\"the unit of electricity counsumed by the user is \",a, \"and Total bill of electricity is :- \", c+450 )\n",
    "elif a>200 and a<=300:\n",
    "    d = int(a-200)*10\n",
    "    print(\"the unit of electricity counsumed by the user is \",a, \"and Total bill of electricity is :- \",d+1050)\n",
    "elif a>300 :\n",
    "    b = int(a-300)*20\n",
    "    print(\"the unit of electricity counsumed by the user is \",a, \"and Total bill of electricity is :- \", b+2050 )\n",
    "\n"
   ]
  },
  {
   "cell_type": "code",
   "execution_count": 29,
   "id": "61058ee2",
   "metadata": {},
   "outputs": [
    {
     "name": "stdout",
     "output_type": "stream",
     "text": [
      "enter the no. of units you have used : - 500\n",
      "the unit of electricity counsumed by the user is  500 and Total bill of electricity is :-  6050\n"
     ]
    }
   ],
   "source": [
    "a  = int(input(\"enter the no. of units you have used : - \"))\n",
    "if a<=100:\n",
    "    print(\"the unit of electricity counsumed by the user is \",a, \"and Total bill of electricity is :- \", a*4.5)\n",
    "elif a>100 and a<=200:\n",
    "    c = int(a-100)*6\n",
    "    print(\"the unit of electricity counsumed by the user is \",a, \"and Total bill of electricity is :- \", c+450 )\n",
    "elif a>200 and a<=300:\n",
    "    d = int(a-200)*10\n",
    "    print(\"the unit of electricity counsumed by the user is \",a, \"and Total bill of electricity is :- \",d+1050)\n",
    "elif a>300 :\n",
    "    b = int(a-300)*20\n",
    "    print(\"the unit of electricity counsumed by the user is \",a, \"and Total bill of electricity is :- \", b+2050 )\n",
    "\n"
   ]
  },
  {
   "cell_type": "raw",
   "id": "7562bf7f",
   "metadata": {},
   "source": [
    "Q4. Create a list of numbers from 1 to 100. Use for loop and while loop to calculate the cube of each\n",
    "number and if the cube of that number is divisible by 4 or 5 then append that number in a list and print\n",
    "that list."
   ]
  },
  {
   "cell_type": "code",
   "execution_count": 15,
   "id": "fc43c871",
   "metadata": {},
   "outputs": [
    {
     "name": "stdout",
     "output_type": "stream",
     "text": [
      "[8, 64, 125, 216, 512, 1000, 1728, 2744, 3375, 4096, 5832, 8000, 10648, 13824, 15625, 17576, 21952, 27000, 32768, 39304, 42875, 46656, 54872, 64000, 74088, 85184, 91125, 97336, 110592, 125000, 140608, 157464, 166375, 175616, 195112, 216000, 238328, 262144, 274625, 287496, 314432, 343000, 373248, 405224, 421875, 438976, 474552, 512000, 551368, 592704, 614125, 636056, 681472, 729000, 778688, 830584, 857375, 884736, 941192, 1000000]\n"
     ]
    }
   ],
   "source": [
    "l = []\n",
    "for i in range(1,101):\n",
    "    a = i**3\n",
    "    if a%4==0 or a%5==0:\n",
    "        l.append(a)\n",
    "print(l)        "
   ]
  },
  {
   "cell_type": "code",
   "execution_count": 18,
   "id": "890d24d8",
   "metadata": {},
   "outputs": [
    {
     "name": "stdout",
     "output_type": "stream",
     "text": [
      "[8, 64, 125, 216, 512, 1000, 1728, 2744, 3375, 4096, 5832, 8000, 10648, 13824, 15625, 17576, 21952, 27000, 32768, 39304, 42875, 46656, 54872, 64000, 74088, 85184, 91125, 97336, 110592, 125000, 140608, 157464, 166375, 175616, 195112, 216000, 238328, 262144, 274625, 287496, 314432, 343000, 373248, 405224, 421875, 438976, 474552, 512000, 551368, 592704, 614125, 636056, 681472, 729000, 778688, 830584, 857375, 884736, 941192, 1000000]\n",
      "60\n"
     ]
    }
   ],
   "source": [
    "l =[]\n",
    "i = 1\n",
    "while(i<101):\n",
    "    a = i**3\n",
    "    if a%4==0 or a%5==0:\n",
    "        l.append(a)\n",
    "    \n",
    "    i =i +1\n",
    "    \n",
    "print(l) "
   ]
  },
  {
   "cell_type": "raw",
   "id": "f57ba71c",
   "metadata": {},
   "source": [
    "Q5. Write a program to filter count vowels in the below-given string.\n",
    "string = \"I want to become a data scientist\""
   ]
  },
  {
   "cell_type": "code",
   "execution_count": 20,
   "id": "ec897c6e",
   "metadata": {},
   "outputs": [
    {
     "name": "stdout",
     "output_type": "stream",
     "text": [
      "['I', 'a', 'o', 'e', 'o', 'e', 'a', 'a', 'a', 'i', 'e', 'i']\n"
     ]
    }
   ],
   "source": [
    "Str = \"I want to become a data scientist\"\n",
    "k = []\n",
    "for i in Str:\n",
    "    if i==\"a\" or i==\"A\" or i==\"i\" or i==\"I\" or i==\"o\" or i==\"O\" or i==\"e\" or i==\"E\" or i==\"u\"or i==\"U\":\n",
    "        k.append(i)\n",
    "        \n",
    "print(k)        "
   ]
  },
  {
   "cell_type": "code",
   "execution_count": null,
   "id": "27ed994e",
   "metadata": {},
   "outputs": [],
   "source": []
  }
 ],
 "metadata": {
  "kernelspec": {
   "display_name": "Python 3 (ipykernel)",
   "language": "python",
   "name": "python3"
  },
  "language_info": {
   "codemirror_mode": {
    "name": "ipython",
    "version": 3
   },
   "file_extension": ".py",
   "mimetype": "text/x-python",
   "name": "python",
   "nbconvert_exporter": "python",
   "pygments_lexer": "ipython3",
   "version": "3.9.7"
  }
 },
 "nbformat": 4,
 "nbformat_minor": 5
}
